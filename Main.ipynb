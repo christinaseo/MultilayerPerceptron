{
 "cells": [
  {
   "cell_type": "markdown",
   "metadata": {},
   "source": [
    "# Multilayer Perceptron"
   ]
  },
  {
   "cell_type": "code",
   "execution_count": 31,
   "metadata": {},
   "outputs": [],
   "source": [
    "import numpy as np"
   ]
  },
  {
   "cell_type": "markdown",
   "metadata": {},
   "source": [
    "XOR"
   ]
  },
  {
   "cell_type": "code",
   "execution_count": 32,
   "metadata": {},
   "outputs": [],
   "source": [
    "x1 = [0,0,1,1]\n",
    "x2 = [0,1,0,1]\n",
    "y = [0,1,1,0]\n",
    "\n",
    "#As y changes values twice, we will need two lines to separate the 1's and the 0's"
   ]
  },
  {
   "cell_type": "code",
   "execution_count": 33,
   "metadata": {},
   "outputs": [
    {
     "name": "stdout",
     "output_type": "stream",
     "text": [
      "2\n"
     ]
    }
   ],
   "source": [
    "#Need to initialize a value for the first comparison\n",
    "compare = y[0]\n",
    "\n",
    "#This is the count of the number of lines necessary to solve the problem\n",
    "count = 0\n",
    "\n",
    "for element in y:\n",
    "    if element != compare:\n",
    "        count += 1\n",
    "    compare = element\n",
    "\n",
    "print(count)"
   ]
  },
  {
   "cell_type": "code",
   "execution_count": 34,
   "metadata": {},
   "outputs": [],
   "source": [
    "#Initialize the values of w and b\n",
    "w = []\n",
    "b = 1\n",
    "\n",
    "for x in range(0,count):\n",
    "    w = np.append(w,1)\n"
   ]
  },
  {
   "cell_type": "code",
   "execution_count": 35,
   "metadata": {},
   "outputs": [
    {
     "name": "stdout",
     "output_type": "stream",
     "text": [
      "[1. 1.]\n",
      "1\n"
     ]
    }
   ],
   "source": [
    "print(w)\n",
    "print(b)"
   ]
  },
  {
   "cell_type": "code",
   "execution_count": 36,
   "metadata": {},
   "outputs": [],
   "source": [
    "def activation(input):\n",
    "    if input >=0:\n",
    "        return 1\n",
    "    else:\n",
    "        return 0"
   ]
  },
  {
   "cell_type": "code",
   "execution_count": 37,
   "metadata": {},
   "outputs": [
    {
     "name": "stdout",
     "output_type": "stream",
     "text": [
      "0.0\n",
      "1.0\n",
      "1.0\n",
      "2.0\n",
      "1.0\n",
      "2.0\n",
      "2.0\n",
      "3.0\n",
      "[0. 1. 0. 0.]\n"
     ]
    }
   ],
   "source": [
    "#find initial values of z and yhat\n",
    "yhat = np.zeros(np.size(x1))\n",
    "\n",
    "for j in range (0, np.size(x1)):\n",
    "    temp = []\n",
    "    temp = np.append(temp,x1[j])\n",
    "    temp = np.append(temp,x2[j])\n",
    "    z = np.dot(temp,w)\n",
    "    print(z)\n",
    "    z = z + b\n",
    "    print(z)\n",
    "    yhat[x] = activation(x)\n",
    "\n",
    "print(yhat)"
   ]
  },
  {
   "cell_type": "code",
   "execution_count": 38,
   "metadata": {},
   "outputs": [
    {
     "name": "stdout",
     "output_type": "stream",
     "text": [
      "[0, 1, 1, 0]\n",
      "[0. 1. 0. 0.]\n",
      "[0. 0. 1. 0.]\n"
     ]
    }
   ],
   "source": [
    "#compare with actual values\n",
    "error = y - yhat\n",
    "print(y)\n",
    "print(yhat)\n",
    "\n",
    "print(error)"
   ]
  }
 ],
 "metadata": {
  "kernelspec": {
   "display_name": "Python 3",
   "language": "python",
   "name": "python3"
  },
  "language_info": {
   "codemirror_mode": {
    "name": "ipython",
    "version": 3
   },
   "file_extension": ".py",
   "mimetype": "text/x-python",
   "name": "python",
   "nbconvert_exporter": "python",
   "pygments_lexer": "ipython3",
   "version": "3.6.5"
  }
 },
 "nbformat": 4,
 "nbformat_minor": 2
}
